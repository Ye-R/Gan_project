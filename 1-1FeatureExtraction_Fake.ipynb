{
 "cells": [
  {
   "cell_type": "markdown",
   "id": "ade5a667",
   "metadata": {},
   "source": [
    "# FeatureExtraction - Fake\n",
    "\n",
    "Feature Extraction  - Fake 코드는\n",
    "\n",
    "RealData 에서 선정한 FeatureSelected를 바탕으로, Fake데이터의 특징을 추출하는 코드입니다.\n",
    "이렇게 추출된 데이터는 학습을 거쳐 하나의 모델로 이루어지고,\n",
    "\n",
    "TestData로서 Real데이터가 활용되어 모델의 성능을 평가합니다"
   ]
  },
  {
   "cell_type": "code",
   "execution_count": 1,
   "id": "1e060563",
   "metadata": {},
   "outputs": [
    {
     "name": "stderr",
     "output_type": "stream",
     "text": [
      "C:\\Users\\SDML\\anaconda3\\envs\\gan1\\lib\\site-packages\\numpy\\_distributor_init.py:32: UserWarning: loaded more than 1 DLL from .libs:\n",
      "C:\\Users\\SDML\\anaconda3\\envs\\gan1\\lib\\site-packages\\numpy\\.libs\\libopenblas.NOIJJG62EMASZI6NYURL6JBKM4EVBGM7.gfortran-win_amd64.dll\n",
      "C:\\Users\\SDML\\anaconda3\\envs\\gan1\\lib\\site-packages\\numpy\\.libs\\libopenblas.WCDJNK7YVMPZQ2ME2ZZHJJRJ3JIKNDB7.gfortran-win_amd64.dll\n",
      "  stacklevel=1)\n"
     ]
    }
   ],
   "source": [
    "import pandas as pd\n",
    "import numpy as np\n",
    "import scipy.stats as sp\n",
    "import pywt\n",
    "import os"
   ]
  },
  {
   "cell_type": "markdown",
   "id": "71ac0481",
   "metadata": {},
   "source": [
    "# Fake Data 합치기\n",
    "\n",
    "가짜 데이터들의 경우, 센서별로 생성되었기 때문에, 별도의 합치는 과정이 필요합니다\n",
    "\n",
    "<데이터 종류>\n",
    "\n",
    "1: 5축 반경(radial axis) 방향 가속도\n",
    "\n",
    "2: 축방향 가속도\n",
    "\n",
    "3: 변위(displacement)\n",
    "\n",
    "4: 전류(current)\n",
    "\n",
    "5: 전압(voltage)\n",
    "\n",
    "6: 가압(welding force) 방향 가속도"
   ]
  },
  {
   "cell_type": "markdown",
   "id": "d7be426e",
   "metadata": {},
   "source": [
    "## 가짜데이터중 박살난 케이스 선정"
   ]
  },
  {
   "cell_type": "code",
   "execution_count": 10,
   "id": "f1474a38",
   "metadata": {},
   "outputs": [],
   "source": [
    "LayerNumber = 3\n",
    "NoiseDimension = 300\n",
    "path_dir_NormalCurrent = './GAN_DATA/[Normal_Current]LN%d_ND%d'%(LayerNumber, NoiseDimension)"
   ]
  },
  {
   "cell_type": "code",
   "execution_count": 11,
   "id": "e49aabed",
   "metadata": {},
   "outputs": [],
   "source": [
    "LayerNumber = 3\n",
    "NoiseDimension = 100\n",
    "path_dir_NormalVoltage = './GAN_DATA/[Normal_Vol]LN%d_ND%d'%(LayerNumber, NoiseDimension)"
   ]
  },
  {
   "cell_type": "code",
   "execution_count": 12,
   "id": "4a231aa9",
   "metadata": {},
   "outputs": [],
   "source": [
    "LayerNumber = 2\n",
    "NoiseDimension = 100\n",
    "path_dir_NormalAcc = './GAN_DATA/[Normal_Acc]LN%d_ND%d'%(LayerNumber, NoiseDimension)"
   ]
  },
  {
   "cell_type": "code",
   "execution_count": 13,
   "id": "2af89540",
   "metadata": {},
   "outputs": [],
   "source": [
    "LayerNumber = 2\n",
    "NoiseDimension = 100\n",
    "path_dir_MisalignCurrent = './GAN_DATA/[Misalign_Current]LN%d_ND%d'%(LayerNumber, NoiseDimension)"
   ]
  },
  {
   "cell_type": "code",
   "execution_count": 14,
   "id": "fc80d6a4",
   "metadata": {},
   "outputs": [],
   "source": [
    "LayerNumber = 1\n",
    "NoiseDimension = 300\n",
    "path_dir_MisalignVoltage = './GAN_DATA/[Misalign_Vol]LN%d_ND%d'%(LayerNumber, NoiseDimension)"
   ]
  },
  {
   "cell_type": "code",
   "execution_count": 15,
   "id": "cc242531",
   "metadata": {},
   "outputs": [],
   "source": [
    "LayerNumber = 1\n",
    "NoiseDimension = 200\n",
    "path_dir_MisalignAcc = './GAN_DATA/[Misalign_Acc]LN%d_ND%d'%(LayerNumber, NoiseDimension)"
   ]
  },
  {
   "cell_type": "code",
   "execution_count": 16,
   "id": "fbc3d46e",
   "metadata": {},
   "outputs": [],
   "source": [
    "# path_dir_NormalCurrent = 'D:/GANDATA/[Normal_Current]LN%d_ND%d'%(LayerNumber, NoiseDimension)\n",
    "# path_dir_NormalVoltage = 'D:/GANDATA/[Normal_Vol]LN%d_ND%d'%(LayerNumber, NoiseDimension)\n",
    "# path_dir_NormalAcc = 'D:/GANDATA/[Normal_Acc]LN%d_ND%d'%(LayerNumber, NoiseDimension)\n"
   ]
  },
  {
   "cell_type": "code",
   "execution_count": 9,
   "id": "e9cea4fd",
   "metadata": {},
   "outputs": [],
   "source": [
    "# path_dir_MisalignCurrent = 'D:/GANDATA/[Misalign_Current]LN%d_ND%d'%(LayerNumber, NoiseDimension)\n",
    "# path_dir_MisalignVoltage = 'D:/GANDATA/[Misalign_Vol]LN%d_ND%d'%(LayerNumber, NoiseDimension)\n",
    "# path_dir_MisalignAcc = 'D:/GANDATA/[Misalign_Acc]LN%d_ND%d'%(LayerNumber, NoiseDimension)\n"
   ]
  },
  {
   "cell_type": "code",
   "execution_count": 17,
   "id": "b7584ade",
   "metadata": {},
   "outputs": [],
   "source": [
    "file_list_NormalCurrent = os.listdir(path_dir_NormalCurrent)\n",
    "file_list_NormalVoltage = os.listdir(path_dir_NormalVoltage)\n",
    "file_list_NormalAcc = os.listdir(path_dir_NormalAcc)"
   ]
  },
  {
   "cell_type": "code",
   "execution_count": 18,
   "id": "68f28374",
   "metadata": {},
   "outputs": [],
   "source": [
    "file_list_MisalignCurrent = os.listdir(path_dir_MisalignCurrent)\n",
    "file_list_MisalignVoltage = os.listdir(path_dir_MisalignVoltage)\n",
    "file_list_MisalignAcc = os.listdir(path_dir_MisalignAcc)"
   ]
  },
  {
   "cell_type": "code",
   "execution_count": 19,
   "id": "0107fb8c",
   "metadata": {},
   "outputs": [],
   "source": [
    "def rms(x): # RMS 함수 정의\n",
    "    return np.sqrt(np.mean(x**2))"
   ]
  },
  {
   "cell_type": "code",
   "execution_count": 20,
   "id": "896645d1",
   "metadata": {},
   "outputs": [],
   "source": [
    "# NoOfCondition = 1  # RPM 따로따로\n",
    "NoOfData = 300\n",
    "NoOfSensor = 3\n",
    "NoOfFeature = 10\n",
    "NoOfNormal = 300\n",
    "NoOfMisalign = 300\n"
   ]
  },
  {
   "cell_type": "code",
   "execution_count": 21,
   "id": "40f16f49",
   "metadata": {},
   "outputs": [],
   "source": [
    "for i in range(NoOfNormal):\n",
    "    temp_current = pd.read_csv(path_dir_NormalCurrent+'/'+file_list_NormalCurrent[i], header= None).iloc[:,1]\n",
    "    temp_voltage = pd.read_csv(path_dir_NormalVoltage+'/'+file_list_NormalVoltage[i], header= None).iloc[:,1]\n",
    "    temp_acc = pd.read_csv(path_dir_NormalAcc+'/'+file_list_NormalAcc[i], header= None).iloc[:,1]\n",
    "    temp_data = pd.concat([temp_current, temp_voltage,temp_acc], axis = 1,ignore_index = True)\n",
    "    s1 = 'FakeNormal_%d = temp_data'%(i+1);exec(s1)\n",
    "    "
   ]
  },
  {
   "cell_type": "code",
   "execution_count": 22,
   "id": "232d23b2",
   "metadata": {},
   "outputs": [],
   "source": [
    "for i in range(NoOfMisalign):\n",
    "    temp_current = pd.read_csv(path_dir_MisalignCurrent+'/'+file_list_MisalignCurrent[i], header= None).iloc[:,1]\n",
    "    temp_voltage = pd.read_csv(path_dir_MisalignVoltage+'/'+file_list_MisalignVoltage[i], header= None).iloc[:,1]\n",
    "    temp_acc = pd.read_csv(path_dir_MisalignAcc+'/'+file_list_MisalignAcc[i], header= None).iloc[:,1]\n",
    "    temp_data = pd.concat([temp_current, temp_voltage,temp_acc], axis = 1,ignore_index = True)\n",
    "    s1 = 'FakeMisalign_%d = temp_data'%(i+1);exec(s1)\n",
    "    "
   ]
  },
  {
   "cell_type": "markdown",
   "id": "f420eb8c",
   "metadata": {},
   "source": [
    "# Feature Extraction"
   ]
  },
  {
   "cell_type": "markdown",
   "id": "3a0a5621",
   "metadata": {},
   "source": [
    "### Time Domain 특징값 추출 (10 features * 2 sensors = 20개씩)"
   ]
  },
  {
   "cell_type": "code",
   "execution_count": 23,
   "id": "e5e3f2b2",
   "metadata": {},
   "outputs": [
    {
     "data": {
      "text/html": [
       "<div>\n",
       "<style scoped>\n",
       "    .dataframe tbody tr th:only-of-type {\n",
       "        vertical-align: middle;\n",
       "    }\n",
       "\n",
       "    .dataframe tbody tr th {\n",
       "        vertical-align: top;\n",
       "    }\n",
       "\n",
       "    .dataframe thead th {\n",
       "        text-align: right;\n",
       "    }\n",
       "</style>\n",
       "<table border=\"1\" class=\"dataframe\">\n",
       "  <thead>\n",
       "    <tr style=\"text-align: right;\">\n",
       "      <th></th>\n",
       "      <th>0</th>\n",
       "      <th>1</th>\n",
       "      <th>2</th>\n",
       "    </tr>\n",
       "  </thead>\n",
       "  <tbody>\n",
       "    <tr>\n",
       "      <th>0</th>\n",
       "      <td>-0.347144</td>\n",
       "      <td>-0.215276</td>\n",
       "      <td>-0.107378</td>\n",
       "    </tr>\n",
       "    <tr>\n",
       "      <th>1</th>\n",
       "      <td>0.410271</td>\n",
       "      <td>-0.078224</td>\n",
       "      <td>-0.120568</td>\n",
       "    </tr>\n",
       "    <tr>\n",
       "      <th>2</th>\n",
       "      <td>-0.246246</td>\n",
       "      <td>-0.024114</td>\n",
       "      <td>-0.079020</td>\n",
       "    </tr>\n",
       "    <tr>\n",
       "      <th>3</th>\n",
       "      <td>0.094586</td>\n",
       "      <td>-0.007352</td>\n",
       "      <td>-0.109323</td>\n",
       "    </tr>\n",
       "    <tr>\n",
       "      <th>4</th>\n",
       "      <td>0.039772</td>\n",
       "      <td>-0.183764</td>\n",
       "      <td>-0.112202</td>\n",
       "    </tr>\n",
       "    <tr>\n",
       "      <th>...</th>\n",
       "      <td>...</td>\n",
       "      <td>...</td>\n",
       "      <td>...</td>\n",
       "    </tr>\n",
       "    <tr>\n",
       "      <th>2769</th>\n",
       "      <td>0.215470</td>\n",
       "      <td>0.000605</td>\n",
       "      <td>-0.208319</td>\n",
       "    </tr>\n",
       "    <tr>\n",
       "      <th>2770</th>\n",
       "      <td>0.382773</td>\n",
       "      <td>-0.032588</td>\n",
       "      <td>-0.098643</td>\n",
       "    </tr>\n",
       "    <tr>\n",
       "      <th>2771</th>\n",
       "      <td>-0.420667</td>\n",
       "      <td>-0.073586</td>\n",
       "      <td>-0.090130</td>\n",
       "    </tr>\n",
       "    <tr>\n",
       "      <th>2772</th>\n",
       "      <td>0.419656</td>\n",
       "      <td>-0.049284</td>\n",
       "      <td>-0.126697</td>\n",
       "    </tr>\n",
       "    <tr>\n",
       "      <th>2773</th>\n",
       "      <td>0.332213</td>\n",
       "      <td>-0.108187</td>\n",
       "      <td>-0.108008</td>\n",
       "    </tr>\n",
       "  </tbody>\n",
       "</table>\n",
       "<p>2774 rows × 3 columns</p>\n",
       "</div>"
      ],
      "text/plain": [
       "             0         1         2\n",
       "0    -0.347144 -0.215276 -0.107378\n",
       "1     0.410271 -0.078224 -0.120568\n",
       "2    -0.246246 -0.024114 -0.079020\n",
       "3     0.094586 -0.007352 -0.109323\n",
       "4     0.039772 -0.183764 -0.112202\n",
       "...        ...       ...       ...\n",
       "2769  0.215470  0.000605 -0.208319\n",
       "2770  0.382773 -0.032588 -0.098643\n",
       "2771 -0.420667 -0.073586 -0.090130\n",
       "2772  0.419656 -0.049284 -0.126697\n",
       "2773  0.332213 -0.108187 -0.108008\n",
       "\n",
       "[2774 rows x 3 columns]"
      ]
     },
     "execution_count": 23,
     "metadata": {},
     "output_type": "execute_result"
    }
   ],
   "source": [
    "FakeMisalign_1"
   ]
  },
  {
   "cell_type": "code",
   "execution_count": 24,
   "id": "f4e7a33f",
   "metadata": {},
   "outputs": [
    {
     "name": "stdout",
     "output_type": "stream",
     "text": [
      "(30, 300)\n"
     ]
    }
   ],
   "source": [
    "# 특징데이터 크기 지정\n",
    "TimeFeature_Normal   = np.zeros((NoOfSensor*NoOfFeature , NoOfData))\n",
    "TimeFeature_Misalign   = np.zeros((NoOfSensor*NoOfFeature , NoOfData))\n",
    "\n",
    "for i in range(NoOfData):\n",
    "    \n",
    "    s1 = 'temp_data1 = FakeNormal_%d'%(i+1) # 임시 Normal 데이터\n",
    "    exec(s1)\n",
    "    # Time Domain 특징값 추출\n",
    "    for j in range(NoOfSensor):\n",
    "        \n",
    "        # Normal Time Domain Feature\n",
    "        TimeFeature_Normal[10*j+0, i] = np.max(temp_data1.iloc[:,j])\n",
    "        TimeFeature_Normal[10*j+1, i] = np.min(temp_data1.iloc[:,j])\n",
    "        TimeFeature_Normal[10*j+2, i] = np.mean(temp_data1.iloc[:,j])\n",
    "        TimeFeature_Normal[10*j+3, i] = rms(temp_data1.iloc[:,j])\n",
    "        TimeFeature_Normal[10*j+4, i] = np.var(temp_data1.iloc[:,j])\n",
    "        TimeFeature_Normal[10*j+5, i] = sp.skew(temp_data1.iloc[:,j])\n",
    "        TimeFeature_Normal[10*j+6, i] = sp.kurtosis(temp_data1.iloc[:,j])\n",
    "        TimeFeature_Normal[10*j+7, i] = np.max(temp_data1.iloc[:,j])/rms(temp_data1.iloc[:,j])\n",
    "        TimeFeature_Normal[10*j+8, i] = rms(temp_data1.iloc[:,j])/np.mean(temp_data1.iloc[:,j])\n",
    "        TimeFeature_Normal[10*j+9, i] = np.max(temp_data1.iloc[:,j])/np.mean(temp_data1.iloc[:,j])\n",
    "        \n",
    "        \n",
    "print(TimeFeature_Normal.shape)"
   ]
  },
  {
   "cell_type": "code",
   "execution_count": 25,
   "id": "cf2586f4",
   "metadata": {},
   "outputs": [],
   "source": [
    "for i in range(NoOfData):\n",
    "    \n",
    "    s1 = 'temp_data1 = FakeMisalign_%d'%(i+1) # 임시 Normal 데이터\n",
    "    exec(s1)\n",
    "    # Time Domain 특징값 추출\n",
    "    for j in range(NoOfSensor):\n",
    "        \n",
    "        # Misalign Time Domain Feature\n",
    "        TimeFeature_Misalign[10*j+0, i] = np.max(temp_data1.iloc[:,j])\n",
    "        TimeFeature_Misalign[10*j+1, i] = np.min(temp_data1.iloc[:,j])\n",
    "        TimeFeature_Misalign[10*j+2, i] = np.mean(temp_data1.iloc[:,j])\n",
    "        TimeFeature_Misalign[10*j+3, i] = rms(temp_data1.iloc[:,j])\n",
    "        TimeFeature_Misalign[10*j+4, i] = np.var(temp_data1.iloc[:,j])\n",
    "        TimeFeature_Misalign[10*j+5, i] = sp.skew(temp_data1.iloc[:,j])\n",
    "        TimeFeature_Misalign[10*j+6, i] = sp.kurtosis(temp_data1.iloc[:,j])\n",
    "        TimeFeature_Misalign[10*j+7, i] = np.max(temp_data1.iloc[:,j])/rms(temp_data1.iloc[:,j])\n",
    "        TimeFeature_Misalign[10*j+8, i] = rms(temp_data1.iloc[:,j])/np.mean(temp_data1.iloc[:,j])\n",
    "        TimeFeature_Misalign[10*j+9, i] = np.max(temp_data1.iloc[:,j])/np.mean(temp_data1.iloc[:,j])\n",
    "        "
   ]
  },
  {
   "cell_type": "code",
   "execution_count": 26,
   "id": "45ae207e",
   "metadata": {},
   "outputs": [
    {
     "data": {
      "text/plain": [
       "(30, 600)"
      ]
     },
     "execution_count": 26,
     "metadata": {},
     "output_type": "execute_result"
    }
   ],
   "source": [
    "TimeFeature = np.concatenate([TimeFeature_Normal,TimeFeature_Misalign] , axis=1)\n",
    "TimeFeature.shape"
   ]
  },
  {
   "cell_type": "markdown",
   "id": "ee88c9ee",
   "metadata": {},
   "source": [
    "### Frequency Domain 특징값 추출 (10 features * 8 wavelet levels * 2 sensors = 160개씩)"
   ]
  },
  {
   "cell_type": "code",
   "execution_count": 27,
   "id": "4c1d6259",
   "metadata": {},
   "outputs": [],
   "source": [
    "# Wavelet options\n",
    "MotherWavelet = pywt.Wavelet('haar')   # Mother wavelet (모함수) 지정\n",
    "Level   = 8                            # Wavelet 분해 레벨 지정\n",
    "select  = 8                            # 특징추출 영역 고주파 영역부터 개수 지정 (d1~)"
   ]
  },
  {
   "cell_type": "code",
   "execution_count": 28,
   "id": "c8c68c66",
   "metadata": {
    "scrolled": false
   },
   "outputs": [],
   "source": [
    "#Frequency Domain 특징값 추출 (Wavelet Transform 기반)\n",
    "FreqFeature_Normal   = np.zeros(shape=(NoOfSensor*NoOfFeature*select , NoOfData))\n",
    "\n",
    "for i in range(NoOfData):\n",
    "    \n",
    "    # 데이터 불러오기\n",
    "    s1 = 'temp_data1 = FakeNormal_%d'%(i+1) # 임시 Normal 데이터\n",
    "    exec(s1)\n",
    "    Coef1      = pywt.wavedec(temp_data1, MotherWavelet, level=Level, axis=0)\n",
    "    \n",
    "    # Frequency Domain 특징값 추출\n",
    "    for j in range(NoOfSensor):\n",
    "        \n",
    "        for k in np.arange(select):\n",
    "            coef1 = Coef1[Level-k]\n",
    "            \n",
    "            # 영상과 다름 주의! : 영상에서는 (i-1)이지만 i 가 맞는 코드\n",
    "            # Normal Frequency Domain Feature\n",
    "            FreqFeature_Normal[NoOfFeature*j*select+k*NoOfFeature+0 , i] = np.max(coef1[:,j])\n",
    "            FreqFeature_Normal[NoOfFeature*j*select+k*NoOfFeature+1 , i] = np.min(coef1[:,j])\n",
    "            FreqFeature_Normal[NoOfFeature*j*select+k*NoOfFeature+2 , i] = np.mean(coef1[:,j])\n",
    "            FreqFeature_Normal[NoOfFeature*j*select+k*NoOfFeature+3 , i] = np.var(coef1[:,j])\n",
    "            FreqFeature_Normal[NoOfFeature*j*select+k*NoOfFeature+4 , i] = rms(coef1[:,j])\n",
    "            FreqFeature_Normal[NoOfFeature*j*select+k*NoOfFeature+5 , i] = sp.skew(coef1[:,j])\n",
    "            FreqFeature_Normal[NoOfFeature*j*select+k*NoOfFeature+6 , i] = sp.kurtosis(coef1[:,j])\n",
    "            FreqFeature_Normal[NoOfFeature*j*select+k*NoOfFeature+7 , i] = np.max(coef1[:,j])/rms(coef1[:,j])\n",
    "            FreqFeature_Normal[NoOfFeature*j*select+k*NoOfFeature+8 , i] = rms(coef1[:,j])/np.mean(coef1[:,j])\n",
    "            FreqFeature_Normal[NoOfFeature*j*select+k*NoOfFeature+9 , i] = np.max(coef1[:,j])/np.mean(coef1[:,j])\n",
    "            \n",
    "           \n",
    "\n"
   ]
  },
  {
   "cell_type": "code",
   "execution_count": 29,
   "id": "f4912b0e",
   "metadata": {},
   "outputs": [],
   "source": [
    "#Frequency Domain 특징값 추출 (Wavelet Transform 기반)\n",
    "FreqFeature_Misalign   = np.zeros(shape=(NoOfSensor*NoOfFeature*select , NoOfData))\n",
    "\n",
    "for i in range(NoOfData):\n",
    "    \n",
    "    # 데이터 불러오기\n",
    "    s1 = 'temp_data1 = FakeMisalign_%d'%(i+1) # 임시 Normal 데이터\n",
    "    exec(s1)\n",
    "    Coef1      = pywt.wavedec(temp_data1, MotherWavelet, level=Level, axis=0)\n",
    "    \n",
    "    # Frequency Domain 특징값 추출\n",
    "    for j in range(NoOfSensor):\n",
    "        \n",
    "        for k in np.arange(select):\n",
    "            coef1 = Coef1[Level-k]\n",
    "            \n",
    "            # 영상과 다름 주의! : 영상에서는 (i-1)이지만 i 가 맞는 코드\n",
    "            # Misalign Frequency Domain Feature\n",
    "            FreqFeature_Misalign[NoOfFeature*j*select+k*NoOfFeature+0 , i] = np.max(coef1[:,j])\n",
    "            FreqFeature_Misalign[NoOfFeature*j*select+k*NoOfFeature+1 , i] = np.min(coef1[:,j])\n",
    "            FreqFeature_Misalign[NoOfFeature*j*select+k*NoOfFeature+2 , i] = np.mean(coef1[:,j])\n",
    "            FreqFeature_Misalign[NoOfFeature*j*select+k*NoOfFeature+3 , i] = np.var(coef1[:,j])\n",
    "            FreqFeature_Misalign[NoOfFeature*j*select+k*NoOfFeature+4 , i] = rms(coef1[:,j])\n",
    "            FreqFeature_Misalign[NoOfFeature*j*select+k*NoOfFeature+5 , i] = sp.skew(coef1[:,j])\n",
    "            FreqFeature_Misalign[NoOfFeature*j*select+k*NoOfFeature+6 , i] = sp.kurtosis(coef1[:,j])\n",
    "            FreqFeature_Misalign[NoOfFeature*j*select+k*NoOfFeature+7 , i] = np.max(coef1[:,j])/rms(coef1[:,j])\n",
    "            FreqFeature_Misalign[NoOfFeature*j*select+k*NoOfFeature+8 , i] = rms(coef1[:,j])/np.mean(coef1[:,j])\n",
    "            FreqFeature_Misalign[NoOfFeature*j*select+k*NoOfFeature+9 , i] = np.max(coef1[:,j])/np.mean(coef1[:,j])\n",
    "            \n",
    "           \n",
    "\n"
   ]
  },
  {
   "cell_type": "code",
   "execution_count": 30,
   "id": "8e5353b2",
   "metadata": {},
   "outputs": [
    {
     "data": {
      "text/plain": [
       "(240, 600)"
      ]
     },
     "execution_count": 30,
     "metadata": {},
     "output_type": "execute_result"
    }
   ],
   "source": [
    "FreqFeature = np.concatenate([FreqFeature_Normal,FreqFeature_Misalign] , axis=1)\n",
    "FreqFeature.shape"
   ]
  },
  {
   "cell_type": "markdown",
   "id": "28734414",
   "metadata": {},
   "source": [
    "# Feature 통합"
   ]
  },
  {
   "cell_type": "code",
   "execution_count": 31,
   "id": "3c0dd6f9",
   "metadata": {},
   "outputs": [
    {
     "name": "stdout",
     "output_type": "stream",
     "text": [
      "Feature Data Size : (270, 600)\n"
     ]
    }
   ],
   "source": [
    "Features = np.concatenate([TimeFeature,FreqFeature] , axis=0)\n",
    "FeatureData = pd.DataFrame(Features)\n",
    "print(\"Feature Data Size :\", Features.shape)\n",
    "path = './ProcessedData/[Fake]FeatureData'   # path = '파일 경로/저장할 파일 이름'\n",
    "FeatureData.to_csv(path, sep=',', header=None , index=None)"
   ]
  },
  {
   "cell_type": "markdown",
   "id": "ec82bc6d",
   "metadata": {},
   "source": [
    "### .\n",
    "### \n",
    "### ."
   ]
  },
  {
   "cell_type": "code",
   "execution_count": 32,
   "id": "9f05d4ca",
   "metadata": {},
   "outputs": [],
   "source": [
    "import seaborn           as sb\n",
    "import scipy.stats       as sp\n",
    "import matplotlib.pyplot as plt\n",
    "from scipy.stats import f_oneway\n"
   ]
  },
  {
   "cell_type": "markdown",
   "id": "e61944e6",
   "metadata": {},
   "source": [
    "특징 데이터 로드"
   ]
  },
  {
   "cell_type": "code",
   "execution_count": 33,
   "id": "95487c74",
   "metadata": {},
   "outputs": [
    {
     "name": "stdout",
     "output_type": "stream",
     "text": [
      "(270, 600)\n"
     ]
    }
   ],
   "source": [
    "s8 = \"FeatureData = pd.read_csv('./ProcessedData/[Fake]FeatureData', sep=',', header=None)\"\n",
    "exec(s8)\n",
    "print(FeatureData.shape)"
   ]
  },
  {
   "cell_type": "markdown",
   "id": "fc945db3",
   "metadata": {},
   "source": [
    "\n",
    "# 특징데이터 정상/고장1/고장2 분리"
   ]
  },
  {
   "cell_type": "code",
   "execution_count": 34,
   "id": "2c411ebb",
   "metadata": {},
   "outputs": [
    {
     "name": "stdout",
     "output_type": "stream",
     "text": [
      "(270, 300)\n",
      "(270, 300)\n"
     ]
    }
   ],
   "source": [
    "Normal_FeatureData   = FeatureData.iloc[:,:NoOfData]\n",
    "Misalign_FeatureData = FeatureData.iloc[:,NoOfData:]\n",
    "\n",
    "print(Normal_FeatureData.shape)\n",
    "print(Misalign_FeatureData.shape)"
   ]
  },
  {
   "cell_type": "markdown",
   "id": "cfc52607",
   "metadata": {},
   "source": [
    "#### Train에서 정한 P-value 상위 30개 기반으로 Test Feature Selection"
   ]
  },
  {
   "cell_type": "code",
   "execution_count": 35,
   "id": "8c90e07c",
   "metadata": {},
   "outputs": [],
   "source": [
    "P_value_Rank = pd.read_csv('./ProcessedData/P_value_Rank', header = None)"
   ]
  },
  {
   "cell_type": "code",
   "execution_count": 36,
   "id": "f6fecf84",
   "metadata": {},
   "outputs": [
    {
     "data": {
      "text/html": [
       "<div>\n",
       "<style scoped>\n",
       "    .dataframe tbody tr th:only-of-type {\n",
       "        vertical-align: middle;\n",
       "    }\n",
       "\n",
       "    .dataframe tbody tr th {\n",
       "        vertical-align: top;\n",
       "    }\n",
       "\n",
       "    .dataframe thead th {\n",
       "        text-align: right;\n",
       "    }\n",
       "</style>\n",
       "<table border=\"1\" class=\"dataframe\">\n",
       "  <thead>\n",
       "    <tr style=\"text-align: right;\">\n",
       "      <th></th>\n",
       "      <th>0</th>\n",
       "      <th>1</th>\n",
       "      <th>2</th>\n",
       "    </tr>\n",
       "  </thead>\n",
       "  <tbody>\n",
       "    <tr>\n",
       "      <th>0</th>\n",
       "      <td>234.0</td>\n",
       "      <td>WT_Acc_d5_var</td>\n",
       "      <td>0.000000e+00</td>\n",
       "    </tr>\n",
       "    <tr>\n",
       "      <th>1</th>\n",
       "      <td>240.0</td>\n",
       "      <td>WT_Acc_d6_max</td>\n",
       "      <td>0.000000e+00</td>\n",
       "    </tr>\n",
       "    <tr>\n",
       "      <th>2</th>\n",
       "      <td>244.0</td>\n",
       "      <td>WT_Acc_d6_var</td>\n",
       "      <td>0.000000e+00</td>\n",
       "    </tr>\n",
       "    <tr>\n",
       "      <th>3</th>\n",
       "      <td>243.0</td>\n",
       "      <td>WT_Acc_d6_rms</td>\n",
       "      <td>0.000000e+00</td>\n",
       "    </tr>\n",
       "    <tr>\n",
       "      <th>4</th>\n",
       "      <td>233.0</td>\n",
       "      <td>WT_Acc_d5_rms</td>\n",
       "      <td>2.643251e-321</td>\n",
       "    </tr>\n",
       "    <tr>\n",
       "      <th>...</th>\n",
       "      <td>...</td>\n",
       "      <td>...</td>\n",
       "      <td>...</td>\n",
       "    </tr>\n",
       "    <tr>\n",
       "      <th>265</th>\n",
       "      <td>179.0</td>\n",
       "      <td>WT_Voltage_d7_shape</td>\n",
       "      <td>9.062782e-01</td>\n",
       "    </tr>\n",
       "    <tr>\n",
       "      <th>266</th>\n",
       "      <td>89.0</td>\n",
       "      <td>WT_Current_d6_shape</td>\n",
       "      <td>9.100781e-01</td>\n",
       "    </tr>\n",
       "    <tr>\n",
       "      <th>267</th>\n",
       "      <td>178.0</td>\n",
       "      <td>WT_Voltage_d7_impulse</td>\n",
       "      <td>9.642204e-01</td>\n",
       "    </tr>\n",
       "    <tr>\n",
       "      <th>268</th>\n",
       "      <td>218.0</td>\n",
       "      <td>WT_Acc_d3_impulse</td>\n",
       "      <td>9.652670e-01</td>\n",
       "    </tr>\n",
       "    <tr>\n",
       "      <th>269</th>\n",
       "      <td>246.0</td>\n",
       "      <td>WT_Acc_d6_kurtosis</td>\n",
       "      <td>9.795473e-01</td>\n",
       "    </tr>\n",
       "  </tbody>\n",
       "</table>\n",
       "<p>270 rows × 3 columns</p>\n",
       "</div>"
      ],
      "text/plain": [
       "         0                      1              2\n",
       "0    234.0          WT_Acc_d5_var   0.000000e+00\n",
       "1    240.0          WT_Acc_d6_max   0.000000e+00\n",
       "2    244.0          WT_Acc_d6_var   0.000000e+00\n",
       "3    243.0          WT_Acc_d6_rms   0.000000e+00\n",
       "4    233.0          WT_Acc_d5_rms  2.643251e-321\n",
       "..     ...                    ...            ...\n",
       "265  179.0    WT_Voltage_d7_shape   9.062782e-01\n",
       "266   89.0    WT_Current_d6_shape   9.100781e-01\n",
       "267  178.0  WT_Voltage_d7_impulse   9.642204e-01\n",
       "268  218.0      WT_Acc_d3_impulse   9.652670e-01\n",
       "269  246.0     WT_Acc_d6_kurtosis   9.795473e-01\n",
       "\n",
       "[270 rows x 3 columns]"
      ]
     },
     "execution_count": 36,
     "metadata": {},
     "output_type": "execute_result"
    }
   ],
   "source": [
    "P_value_Rank"
   ]
  },
  {
   "cell_type": "code",
   "execution_count": 37,
   "id": "bcbec967",
   "metadata": {},
   "outputs": [
    {
     "name": "stdout",
     "output_type": "stream",
     "text": [
      "Selected Feature Data Size : (30, 600)\n"
     ]
    }
   ],
   "source": [
    "Rank = 30\n",
    "\n",
    "Normal   = np.zeros((Rank,NoOfNormal))\n",
    "Misalign = np.zeros((Rank,NoOfMisalign))\n",
    "\n",
    "for i in range(Rank):\n",
    "    \n",
    "    index         = int(P_value_Rank.iloc[i,0])\n",
    "    Normal[i,:]   = Normal_FeatureData.iloc[index,:].values\n",
    "    Misalign[i,:]   = Misalign_FeatureData.iloc[index,:].values\n",
    "# 정상, 고장 특징값 합치기    \n",
    "FeatureSelected = pd.DataFrame(np.concatenate([Normal, Misalign] , axis=1))\n",
    "\n",
    "print(\"Selected Feature Data Size :\", FeatureSelected.shape)"
   ]
  },
  {
   "cell_type": "code",
   "execution_count": 38,
   "id": "372f0585",
   "metadata": {},
   "outputs": [],
   "source": [
    "path = './ProcessedData/[Fake]FeatureSelected'   # path = '파일 경로//저장할 파일 이름'\n",
    "FeatureSelected.to_csv(path, sep=',', header=None, index=None)"
   ]
  },
  {
   "cell_type": "code",
   "execution_count": null,
   "id": "215c0f7d",
   "metadata": {},
   "outputs": [],
   "source": []
  }
 ],
 "metadata": {
  "kernelspec": {
   "display_name": "Python 3",
   "language": "python",
   "name": "python3"
  },
  "language_info": {
   "codemirror_mode": {
    "name": "ipython",
    "version": 3
   },
   "file_extension": ".py",
   "mimetype": "text/x-python",
   "name": "python",
   "nbconvert_exporter": "python",
   "pygments_lexer": "ipython3",
   "version": "3.7.10"
  }
 },
 "nbformat": 4,
 "nbformat_minor": 5
}
